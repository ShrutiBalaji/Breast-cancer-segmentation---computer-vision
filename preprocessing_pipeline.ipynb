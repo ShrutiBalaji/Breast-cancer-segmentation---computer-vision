{
 "cells": [
  {
   "cell_type": "code",
   "execution_count": 25,
   "metadata": {},
   "outputs": [],
   "source": [
    "import pandas as pd\n",
    "import numpy as np\n",
    "from visualize import convert_dicom_to_png\n",
    "from sklearn.model_selection import train_test_split\n",
    "import os\n",
    "from tqdm import tqdm\n",
    "import pydicom\n",
    "##run deidentification , split data, visualize then preprocessing pipeline\n",
    "CSV_PATH = '/Users/shrutibalaji/Downloads/vindr-mammo-master 2/dicom_data/breast-level_annotations.csv'\n",
    "IMAGE_DIR = '/Users/shrutibalaji/Downloads/vindr-mammo-master 2/dicom_data/images'\n",
    "OUTPUT_DIR = '/Users/shrutibalaji/Downloads/vindr-mammo-master 2/preprocessed_data'"
   ]
  },
  {
   "cell_type": "code",
   "execution_count": 26,
   "metadata": {},
   "outputs": [],
   "source": [
    "\n",
    "def create_file_mapping(image_dir):\n",
    "    file_map = {}\n",
    "    for study_folder in os.listdir(image_dir):\n",
    "        if study_folder.startswith('.'):\n",
    "            continue\n",
    "        study_path = os.path.join(image_dir, study_folder)\n",
    "        if os.path.isdir(study_path):\n",
    "            for file in os.listdir(study_path):\n",
    "                if file.endswith('.dicom'):\n",
    "                    file_id = file.split('.')[0]\n",
    "                    file_map[file_id] = os.path.join(study_path, file)\n",
    "    return file_map\n"
   ]
  },
  {
   "cell_type": "code",
   "execution_count": 27,
   "metadata": {},
   "outputs": [],
   "source": [
    "\n",
    "def load_and_preprocess_data(csv_file, file_map):\n",
    "    df = pd.read_csv(csv_file)\n",
    "    \n",
    "    images = []\n",
    "    labels = []\n",
    "    processed_files = []\n",
    "    error_files = []\n",
    "    \n",
    "    for _, row in tqdm(df.iterrows(), total=len(df), desc=\"Processing files\"):\n",
    "        dicom_path = file_map.get(row['image_id'])\n",
    "        if dicom_path:\n",
    "            try:\n",
    "                img = convert_dicom_to_png(dicom_path)\n",
    "                if img is not None:\n",
    "                    images.append(img)\n",
    "                    labels.append(1 if row['breast_birads'] != 'BI-RADS 1' else 0)\n",
    "                    processed_files.append(dicom_path)\n",
    "                else:\n",
    "                    print(f\"Warning: Image conversion returned None for {dicom_path}\")\n",
    "                    error_files.append((dicom_path, \"Conversion returned None\"))\n",
    "            except Exception as e:\n",
    "                print(f\"Error processing {dicom_path}: {str(e)}\")\n",
    "                error_files.append((dicom_path, str(e)))\n",
    "    \n",
    "    print(f\"\\nTotal files in directory: {len(file_map)}\")\n",
    "    print(f\"Files successfully processed: {len(processed_files)}\")\n",
    "    print(f\"Files with errors: {len(error_files)}\")\n",
    "    \n",
    "    if error_files:\n",
    "        print(\"\\nFirst few error files:\")\n",
    "        for path, error in error_files[:5]:\n",
    "            print(f\"{path}: {error}\")\n",
    "    \n",
    "    return images, np.array(labels)"
   ]
  },
  {
   "cell_type": "code",
   "execution_count": 5,
   "metadata": {},
   "outputs": [],
   "source": [
    "#original\n",
    "def split_and_save_data(images, labels, output_dir):\n",
    "    if len(images) == 0:\n",
    "        print(\"No images were successfully processed. Cannot split and save data.\")\n",
    "        return\n",
    "\n",
    "    # Split data into train and test sets\n",
    "    X_train, X_test, y_train, y_test = train_test_split(images, labels, test_size=0.2, stratify=labels, random_state=42)\n",
    "\n",
    "    print(f\"Training set size: {len(X_train)}\")\n",
    "    print(f\"Test set size: {len(X_test)}\")\n",
    "\n",
    "    # Save preprocessed data\n",
    "    np.save(os.path.join(output_dir, 'y_train.npy'), y_train)\n",
    "    np.save(os.path.join(output_dir, 'y_test.npy'), y_test)\n",
    "\n",
    "    # Save images as separate files\n",
    "    for i, img in enumerate(X_train):\n",
    "        np.save(os.path.join(output_dir, f'X_train_{i}.npy'), img)\n",
    "    for i, img in enumerate(X_test):\n",
    "        np.save(os.path.join(output_dir, f'X_test_{i}.npy'), img)\n",
    "\n",
    "    print(f\"Preprocessing complete. Data saved to {output_dir}\")"
   ]
  },
  {
   "cell_type": "code",
   "execution_count": null,
   "metadata": {},
   "outputs": [],
   "source": [
    "def split_and_save_data(images, labels, output_dir):\n",
    "    if len(images) == 0:\n",
    "        print(\"No images were successfully processed. Cannot split and save data.\")\n",
    "        return\n",
    "\n",
    "    # Split data into train and test sets\n",
    "    X_train, X_test, y_train, y_test = train_test_split(images, labels, test_size=0.2, stratify=labels, random_state=42)\n",
    "\n",
    "    print(f\"Training set size: {len(X_train)}\")\n",
    "    print(f\"Test set size: {len(X_test)}\")\n",
    "\n",
    "    # Save preprocessed data\n",
    "    np.save(os.path.join(output_dir, 'y_train.npy'), y_train)\n",
    "    np.save(os.path.join(output_dir, 'y_test.npy'), y_test)\n",
    "\n",
    "    \n",
    "    # Group annotations by image_id\n",
    "    grouped = df.groupby('image_id')\n",
    "\n",
    "# Display images with bounding boxes\n",
    "for image_id, annotations in grouped:\n",
    "    display_image_with_boxes(image_id, annotations)\n",
    "    # Save images as separate files\n",
    "    for i, img in enumerate(X_train):\n",
    "        np.save(os.path.join(output_dir, f'X_train_{df.iloc[0]}.npy'), img)\n",
    "    for i, img in enumerate(X_test):\n",
    "        np.save(os.path.join(output_dir, f'X_test_{i}.npy'), img)\n",
    "\n",
    "    print(f\"Preprocessing complete. Data saved to {output_dir}\")"
   ]
  },
  {
   "cell_type": "code",
   "execution_count": 22,
   "metadata": {},
   "outputs": [],
   "source": [
    "# chatgpt generated - mapping code\n",
    "\n",
    "import os\n",
    "import numpy as np\n",
    "from sklearn.model_selection import train_test_split\n",
    "import json\n",
    "df = pd.read_csv('/Users/shrutibalaji/Downloads/vindr-mammo-master 2/dicom_data/breast-level_annotations.csv')\n",
    "def split_and_save_data(images, labels, output_dir, image_paths):\n",
    "    if len(images) == 0:\n",
    "        print(\"No images were successfully processed. Cannot split and save data.\")\n",
    "        return\n",
    "\n",
    "    # Split data into train and test sets\n",
    "    X_train, X_test, y_train, y_test, paths_train, paths_test = train_test_split(\n",
    "        images, labels, image_paths, test_size=0.2, stratify=labels, random_state=42\n",
    "    )\n",
    "\n",
    "    print(f\"Training set size: {len(X_train)}\")\n",
    "    print(f\"Test set size: {len(X_test)}\")\n",
    "\n",
    "    # Save preprocessed data\n",
    "    np.save(os.path.join(output_dir, 'y_train.npy'), y_train)\n",
    "    np.save(os.path.join(output_dir, 'y_test.npy'), y_test)\n",
    "\n",
    "    # Create mapping dictionaries\n",
    "    train_mapping = {}\n",
    "    test_mapping = {}\n",
    "\n",
    "    # Save images as separate files and create mappings\n",
    "    for i, (img, path) in enumerate(zip(X_train, paths_train)):\n",
    "        np.save(os.path.join(output_dir, f'X_train_{i}.npy'), img)\n",
    "        train_mapping[f'X_train_{i}.npy'] = path\n",
    "\n",
    "    for i, (img, path) in enumerate(zip(X_test, paths_test)):\n",
    "        np.save(os.path.join(output_dir, f'X_test_{i}.npy'), img)\n",
    "        test_mapping[f'X_test_{i}.npy'] = path\n",
    "\n",
    "    # Save mapping dictionaries\n",
    "    with open(os.path.join(output_dir, 'train_mapping.json'), 'w') as f:\n",
    "        json.dump(train_mapping, f)\n",
    "    with open(os.path.join(output_dir, 'test_mapping.json'), 'w') as f:\n",
    "        json.dump(test_mapping, f)\n",
    "\n",
    "    print(f\"Preprocessing complete. Data and mappings saved to {output_dir}\")"
   ]
  },
  {
   "cell_type": "code",
   "execution_count": null,
   "metadata": {},
   "outputs": [],
   "source": []
  },
  {
   "cell_type": "code",
   "execution_count": 23,
   "metadata": {},
   "outputs": [
    {
     "name": "stdout",
     "output_type": "stream",
     "text": [
      "Creating file mapping...\n",
      "\n",
      "Loading and preprocessing data from /Users/shrutibalaji/Downloads/vindr-mammo-master 2/dicom_data/breast-level_annotations.csv\n"
     ]
    },
    {
     "name": "stderr",
     "output_type": "stream",
     "text": [
      "Processing files: 100%|██████████| 20000/20000 [00:02<00:00, 8197.03it/s]"
     ]
    },
    {
     "name": "stdout",
     "output_type": "stream",
     "text": [
      "\n",
      "Total files in directory: 40\n",
      "Files successfully processed: 40\n",
      "Files with errors: 0\n"
     ]
    },
    {
     "name": "stderr",
     "output_type": "stream",
     "text": [
      "\n"
     ]
    },
    {
     "ename": "TypeError",
     "evalue": "split_and_save_data() missing 1 required positional argument: 'image_paths'",
     "output_type": "error",
     "traceback": [
      "\u001b[0;31m---------------------------------------------------------------------------\u001b[0m",
      "\u001b[0;31mTypeError\u001b[0m                                 Traceback (most recent call last)",
      "Cell \u001b[0;32mIn[23], line 25\u001b[0m\n\u001b[1;32m     22\u001b[0m     split_and_save_data(images, labels, OUTPUT_DIR)\n\u001b[1;32m     24\u001b[0m \u001b[38;5;28;01mif\u001b[39;00m \u001b[38;5;18m__name__\u001b[39m \u001b[38;5;241m==\u001b[39m \u001b[38;5;124m\"\u001b[39m\u001b[38;5;124m__main__\u001b[39m\u001b[38;5;124m\"\u001b[39m:\n\u001b[0;32m---> 25\u001b[0m     \u001b[43mmain\u001b[49m\u001b[43m(\u001b[49m\u001b[43m)\u001b[49m\n",
      "Cell \u001b[0;32mIn[23], line 22\u001b[0m, in \u001b[0;36mmain\u001b[0;34m()\u001b[0m\n\u001b[1;32m     19\u001b[0m images, labels \u001b[38;5;241m=\u001b[39m load_and_preprocess_data(CSV_PATH, file_map)\n\u001b[1;32m     21\u001b[0m \u001b[38;5;66;03m# Split and save data\u001b[39;00m\n\u001b[0;32m---> 22\u001b[0m \u001b[43msplit_and_save_data\u001b[49m\u001b[43m(\u001b[49m\u001b[43mimages\u001b[49m\u001b[43m,\u001b[49m\u001b[43m \u001b[49m\u001b[43mlabels\u001b[49m\u001b[43m,\u001b[49m\u001b[43m \u001b[49m\u001b[43mOUTPUT_DIR\u001b[49m\u001b[43m)\u001b[49m\n",
      "\u001b[0;31mTypeError\u001b[0m: split_and_save_data() missing 1 required positional argument: 'image_paths'"
     ]
    }
   ],
   "source": [
    "def main():\n",
    "    if not os.path.exists(CSV_PATH):\n",
    "        print(f\"Error: CSV file not found at {CSV_PATH}\")\n",
    "        return\n",
    "    \n",
    "    if not os.path.exists(IMAGE_DIR):\n",
    "        print(f\"Error: Image directory not found at {IMAGE_DIR}\")\n",
    "        return\n",
    "\n",
    "    # Create output directory if it doesn't exist\n",
    "    os.makedirs(OUTPUT_DIR, exist_ok=True)\n",
    "\n",
    "    # Create file mapping\n",
    "    print(\"Creating file mapping...\")\n",
    "    file_map = create_file_mapping(IMAGE_DIR)\n",
    "\n",
    "    # Load and preprocess data\n",
    "    print(f\"\\nLoading and preprocessing data from {CSV_PATH}\")\n",
    "    images, labels = load_and_preprocess_data(CSV_PATH, file_map)\n",
    "\n",
    "    # Split and save data\n",
    "    split_and_save_data(images, labels, OUTPUT_DIR)\n",
    "\n",
    "if __name__ == \"__main__\":\n",
    "    main()"
   ]
  },
  {
   "cell_type": "code",
   "execution_count": null,
   "metadata": {},
   "outputs": [],
   "source": []
  }
 ],
 "metadata": {
  "kernelspec": {
   "display_name": "segmentation",
   "language": "python",
   "name": "python3"
  },
  "language_info": {
   "codemirror_mode": {
    "name": "ipython",
    "version": 3
   },
   "file_extension": ".py",
   "mimetype": "text/x-python",
   "name": "python",
   "nbconvert_exporter": "python",
   "pygments_lexer": "ipython3",
   "version": "3.12.4"
  }
 },
 "nbformat": 4,
 "nbformat_minor": 2
}
